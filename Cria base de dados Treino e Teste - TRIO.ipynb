{
 "cells": [
  {
   "cell_type": "markdown",
   "metadata": {},
   "source": [
    "## [**About Dataset - Kaggle**](https://www.kaggle.com/datasets/mahdimaktabdar/chatgpt-classification-dataset)\n",
    "\n",
    "We have compiled a dataset that consists of textual articles including common terminology, concepts and definitions in the field of computer science, artificial intelligence, and cyber security. This dataset consists of both human-generated text and OpenAI’s ChatGPT-generated text. Human-generated answers were collected from different computer science dictionaries and encyclopedias including “The Encyclopedia of Computer Science and Technology” and \"Encyclopedia of Human-Computer Interaction\".\n",
    "\n",
    "AI-generated content in our dataset was produced by simply posting questions to OpenAI’s ChatGPT and manually documenting the resulting responses. A rigorous data-cleaning process has been performed to remove unwanted Unicode characters, styling and formatting tags. To structure our dataset for binary classification, we combined both AI-generated and Human-generated answers into a single column and assigned appropriate labels to each data point (Human-generated = 0 and AI-generated = 1).\n",
    "\n",
    "This constructs our sentence-level dataset (sentence_level_data.csv) which consists of a total of 7344 entries (4008 AI-generated and 3336 Human-generated).\n",
    "\n",
    "We appreciate it, if you cite the following article if you happen to use this dataset in any scientific publication:\n",
    "\n",
    "Maktab Dar Oghaz, M., Dhame, K., Singaram, G., & Babu Saheer, L. (2023). Detection and Classification of ChatGPT Generated Contents Using Deep Transformer Models. IEEEAccess.\n",
    "https://www.techrxiv.org/articles/preprint/Detection_and_Classification_of_ChatGPT_Generated_Contents_Using_Deep_Transformer_Models/23895951"
   ]
  },
  {
   "cell_type": "code",
   "execution_count": 13,
   "metadata": {},
   "outputs": [],
   "source": [
    "import pandas as pd\n",
    "import random\n",
    "import os\n",
    "from sklearn.model_selection import train_test_split"
   ]
  },
  {
   "cell_type": "code",
   "execution_count": 14,
   "metadata": {},
   "outputs": [],
   "source": [
    "# Transforma string em inteiro\n",
    "def nome_para_inteiro(nome):\n",
    "    nome = nome.upper()  # Converter para maiúsculas para tratar maiúsculas e minúsculas da mesma forma\n",
    "    valor_inteiro = 0\n",
    "    \n",
    "    for letra in nome:\n",
    "        # Verificar se a letra está no alfabeto (A a Z)\n",
    "        if 'A' <= letra <= 'Z':\n",
    "            valor_inteiro += ord(letra) - ord('A') + 1  # Valor de 'A' é 1, 'B' é 2, ..., 'Z' é 26\n",
    "    \n",
    "    return valor_inteiro"
   ]
  },
  {
   "cell_type": "code",
   "execution_count": 15,
   "metadata": {},
   "outputs": [
    {
     "data": {
      "text/plain": [
       "['Airline Passenger Reviews.csv',\n",
       " 'Cria base de dados Treino e Teste - QUARTETO.ipynb',\n",
       " 'Cria base de dados Treino e Teste - TRIO.ipynb',\n",
       " 'dados_teste_TRIO_silasapb.csv',\n",
       " 'dados_treino_TRIO_silasapb.csv',\n",
       " 'Projeto1 Template_vf.ipynb',\n",
       " 'sentence_level_data.csv']"
      ]
     },
     "execution_count": 15,
     "metadata": {},
     "output_type": "execute_result"
    }
   ],
   "source": [
    "os.listdir()"
   ]
  },
  {
   "cell_type": "code",
   "execution_count": 16,
   "metadata": {},
   "outputs": [
    {
     "data": {
      "text/html": [
       "<div>\n",
       "<style scoped>\n",
       "    .dataframe tbody tr th:only-of-type {\n",
       "        vertical-align: middle;\n",
       "    }\n",
       "\n",
       "    .dataframe tbody tr th {\n",
       "        vertical-align: top;\n",
       "    }\n",
       "\n",
       "    .dataframe thead th {\n",
       "        text-align: right;\n",
       "    }\n",
       "</style>\n",
       "<table border=\"1\" class=\"dataframe\">\n",
       "  <thead>\n",
       "    <tr style=\"text-align: right;\">\n",
       "      <th></th>\n",
       "      <th>sentence</th>\n",
       "      <th>target</th>\n",
       "    </tr>\n",
       "  </thead>\n",
       "  <tbody>\n",
       "    <tr>\n",
       "      <th>0</th>\n",
       "      <td>NLP is a multidisciplinary field that draws fr...</td>\n",
       "      <td>HG</td>\n",
       "    </tr>\n",
       "    <tr>\n",
       "      <th>1</th>\n",
       "      <td>In terms of linguistics, a program must be abl...</td>\n",
       "      <td>HG</td>\n",
       "    </tr>\n",
       "    <tr>\n",
       "      <th>2</th>\n",
       "      <td>Of course each language has its own forms of a...</td>\n",
       "      <td>HG</td>\n",
       "    </tr>\n",
       "    <tr>\n",
       "      <th>3</th>\n",
       "      <td>Programs can use several strategies for dealin...</td>\n",
       "      <td>HG</td>\n",
       "    </tr>\n",
       "    <tr>\n",
       "      <th>4</th>\n",
       "      <td>As formidable as the task of extracting the co...</td>\n",
       "      <td>HG</td>\n",
       "    </tr>\n",
       "    <tr>\n",
       "      <th>...</th>\n",
       "      <td>...</td>\n",
       "      <td>...</td>\n",
       "    </tr>\n",
       "    <tr>\n",
       "      <th>7339</th>\n",
       "      <td>This involves minimizing the number of registe...</td>\n",
       "      <td>AI</td>\n",
       "    </tr>\n",
       "    <tr>\n",
       "      <th>7340</th>\n",
       "      <td>Instruction Scheduling: The compiler reorders ...</td>\n",
       "      <td>AI</td>\n",
       "    </tr>\n",
       "    <tr>\n",
       "      <th>7341</th>\n",
       "      <td>Code Emission: The compiler generates the fina...</td>\n",
       "      <td>AI</td>\n",
       "    </tr>\n",
       "    <tr>\n",
       "      <th>7342</th>\n",
       "      <td>Optimization: The compiler may perform additio...</td>\n",
       "      <td>AI</td>\n",
       "    </tr>\n",
       "    <tr>\n",
       "      <th>7343</th>\n",
       "      <td>This may involve removing redundant code, reor...</td>\n",
       "      <td>AI</td>\n",
       "    </tr>\n",
       "  </tbody>\n",
       "</table>\n",
       "<p>7344 rows × 2 columns</p>\n",
       "</div>"
      ],
      "text/plain": [
       "                                               sentence target\n",
       "0     NLP is a multidisciplinary field that draws fr...     HG\n",
       "1     In terms of linguistics, a program must be abl...     HG\n",
       "2     Of course each language has its own forms of a...     HG\n",
       "3     Programs can use several strategies for dealin...     HG\n",
       "4     As formidable as the task of extracting the co...     HG\n",
       "...                                                 ...    ...\n",
       "7339  This involves minimizing the number of registe...     AI\n",
       "7340  Instruction Scheduling: The compiler reorders ...     AI\n",
       "7341  Code Emission: The compiler generates the fina...     AI\n",
       "7342  Optimization: The compiler may perform additio...     AI\n",
       "7343  This may involve removing redundant code, reor...     AI\n",
       "\n",
       "[7344 rows x 2 columns]"
      ]
     },
     "execution_count": 16,
     "metadata": {},
     "output_type": "execute_result"
    }
   ],
   "source": [
    "# Ler o arquivo de dados \n",
    "dados = pd.read_csv('sentence_level_data.csv', encoding='utf-8-sig').iloc[:,1:]\n",
    "\n",
    "#Human-generated = 0 and AI-generated = 1\n",
    "dados.loc[dados['class']==0,'target'] = 'HG'\n",
    "dados.loc[dados['class']==1,'target'] = 'AI'\n",
    "dados.drop(columns=['class'], inplace=True)\n",
    "dados"
   ]
  },
  {
   "cell_type": "code",
   "execution_count": 17,
   "metadata": {},
   "outputs": [],
   "source": [
    "nome = input(\"Digite seu username do Insper: \")\n",
    "valor_inteiro = nome_para_inteiro(nome)"
   ]
  },
  {
   "cell_type": "code",
   "execution_count": 18,
   "metadata": {},
   "outputs": [
    {
     "data": {
      "text/plain": [
       "31"
      ]
     },
     "execution_count": 18,
     "metadata": {},
     "output_type": "execute_result"
    }
   ],
   "source": [
    "valor_inteiro"
   ]
  },
  {
   "cell_type": "code",
   "execution_count": 19,
   "metadata": {},
   "outputs": [
    {
     "data": {
      "text/plain": [
       "Index(['sentence', 'target'], dtype='object')"
      ]
     },
     "execution_count": 19,
     "metadata": {},
     "output_type": "execute_result"
    }
   ],
   "source": [
    "# Embaralhar as linhas do conjunto de dados\n",
    "dados_embaralhados = dados.sample(frac=2100/dados.shape[0], random_state=valor_inteiro)\n",
    "dados_embaralhados.columns"
   ]
  },
  {
   "cell_type": "code",
   "execution_count": 20,
   "metadata": {},
   "outputs": [],
   "source": [
    "# Separar os dados de treino e teste \n",
    "X = dados_embaralhados.sentence\n",
    "y = dados_embaralhados.target\n",
    "X_train, X_test, y_train, y_test = train_test_split(X, y, test_size=0.30, random_state=valor_inteiro)\n",
    "\n",
    "dados_treino = pd.concat([X_train, y_train],axis=1)\n",
    "dados_treino.columns = ['sentence', 'target']\n",
    "dados_teste = pd.concat([X_test, y_test],axis=1)\n",
    "dados_teste.columns = ['sentence', 'target']\n",
    "   "
   ]
  },
  {
   "cell_type": "code",
   "execution_count": 21,
   "metadata": {
    "scrolled": true
   },
   "outputs": [
    {
     "name": "stdout",
     "output_type": "stream",
     "text": [
      "target\n",
      "AI    0.536735\n",
      "HG    0.463265\n",
      "Name: proportion, dtype: float64\n",
      "target\n",
      "AI    0.544444\n",
      "HG    0.455556\n",
      "Name: proportion, dtype: float64\n"
     ]
    }
   ],
   "source": [
    "print(dados_treino.target.value_counts(True))\n",
    "print(dados_teste.target.value_counts(True))"
   ]
  },
  {
   "cell_type": "code",
   "execution_count": 22,
   "metadata": {},
   "outputs": [
    {
     "name": "stdout",
     "output_type": "stream",
     "text": [
      "Dados de treino e teste foram salvos em 'dados_treino_TRIO_uai.csv' e 'dados_teste_TRIO_uai.csv'.\n"
     ]
    }
   ],
   "source": [
    "# Salvar os dados de treino e teste em arquivos CSV\n",
    "nome_arquivo_treino = 'dados_treino_TRIO_'+nome+'.csv'\n",
    "nome_arquivo_teste = 'dados_teste_TRIO_'+nome+'.csv'\n",
    "\n",
    "dados_treino.to_csv(nome_arquivo_treino,index = False, header=True)\n",
    "dados_teste.to_csv(nome_arquivo_teste, index=False)#, engine='xlsxwriter')\n",
    "\n",
    "print(f\"Dados de treino e teste foram salvos em '{nome_arquivo_treino}' e '{nome_arquivo_teste}'.\")"
   ]
  },
  {
   "cell_type": "code",
   "execution_count": 23,
   "metadata": {},
   "outputs": [
    {
     "data": {
      "text/html": [
       "<div>\n",
       "<style scoped>\n",
       "    .dataframe tbody tr th:only-of-type {\n",
       "        vertical-align: middle;\n",
       "    }\n",
       "\n",
       "    .dataframe tbody tr th {\n",
       "        vertical-align: top;\n",
       "    }\n",
       "\n",
       "    .dataframe thead th {\n",
       "        text-align: right;\n",
       "    }\n",
       "</style>\n",
       "<table border=\"1\" class=\"dataframe\">\n",
       "  <thead>\n",
       "    <tr style=\"text-align: right;\">\n",
       "      <th></th>\n",
       "      <th>sentence</th>\n",
       "      <th>target</th>\n",
       "    </tr>\n",
       "  </thead>\n",
       "  <tbody>\n",
       "    <tr>\n",
       "      <th>0</th>\n",
       "      <td>Memory allocation for binary trees is typicall...</td>\n",
       "      <td>AI</td>\n",
       "    </tr>\n",
       "    <tr>\n",
       "      <th>1</th>\n",
       "      <td>Seeing these potential pitfalls requires think...</td>\n",
       "      <td>HG</td>\n",
       "    </tr>\n",
       "    <tr>\n",
       "      <th>2</th>\n",
       "      <td>They can be simple or complex, and can range f...</td>\n",
       "      <td>AI</td>\n",
       "    </tr>\n",
       "    <tr>\n",
       "      <th>3</th>\n",
       "      <td>For example, web browsers use a cache to store...</td>\n",
       "      <td>AI</td>\n",
       "    </tr>\n",
       "    <tr>\n",
       "      <th>4</th>\n",
       "      <td>Within the DMZ one can find:firewalls,choke an...</td>\n",
       "      <td>HG</td>\n",
       "    </tr>\n",
       "    <tr>\n",
       "      <th>...</th>\n",
       "      <td>...</td>\n",
       "      <td>...</td>\n",
       "    </tr>\n",
       "    <tr>\n",
       "      <th>1465</th>\n",
       "      <td>Small size and lightweight: Optical fibers are...</td>\n",
       "      <td>AI</td>\n",
       "    </tr>\n",
       "    <tr>\n",
       "      <th>1466</th>\n",
       "      <td>It also has a vast standard library, which pro...</td>\n",
       "      <td>AI</td>\n",
       "    </tr>\n",
       "    <tr>\n",
       "      <th>1467</th>\n",
       "      <td>There are different types of affiliate marketi...</td>\n",
       "      <td>AI</td>\n",
       "    </tr>\n",
       "    <tr>\n",
       "      <th>1468</th>\n",
       "      <td>OGG (Ogg Vorbis): This is an open-source compr...</td>\n",
       "      <td>AI</td>\n",
       "    </tr>\n",
       "    <tr>\n",
       "      <th>1469</th>\n",
       "      <td>PageRank is based on the idea that a web page ...</td>\n",
       "      <td>AI</td>\n",
       "    </tr>\n",
       "  </tbody>\n",
       "</table>\n",
       "<p>1470 rows × 2 columns</p>\n",
       "</div>"
      ],
      "text/plain": [
       "                                               sentence target\n",
       "0     Memory allocation for binary trees is typicall...     AI\n",
       "1     Seeing these potential pitfalls requires think...     HG\n",
       "2     They can be simple or complex, and can range f...     AI\n",
       "3     For example, web browsers use a cache to store...     AI\n",
       "4     Within the DMZ one can find:firewalls,choke an...     HG\n",
       "...                                                 ...    ...\n",
       "1465  Small size and lightweight: Optical fibers are...     AI\n",
       "1466  It also has a vast standard library, which pro...     AI\n",
       "1467  There are different types of affiliate marketi...     AI\n",
       "1468  OGG (Ogg Vorbis): This is an open-source compr...     AI\n",
       "1469  PageRank is based on the idea that a web page ...     AI\n",
       "\n",
       "[1470 rows x 2 columns]"
      ]
     },
     "execution_count": 23,
     "metadata": {},
     "output_type": "execute_result"
    }
   ],
   "source": [
    "# COMANDO QUE DEVE COLOCAR NO TEMPLATE Projeto1_Template.ipynb para LER a base de dados TREINO\n",
    "# Faça adaptações digitando o nome (username) considerado\n",
    "pd.read_csv('dados_treino_TRIO_'+nome+'.csv')"
   ]
  },
  {
   "cell_type": "code",
   "execution_count": 24,
   "metadata": {
    "scrolled": true
   },
   "outputs": [
    {
     "data": {
      "text/html": [
       "<div>\n",
       "<style scoped>\n",
       "    .dataframe tbody tr th:only-of-type {\n",
       "        vertical-align: middle;\n",
       "    }\n",
       "\n",
       "    .dataframe tbody tr th {\n",
       "        vertical-align: top;\n",
       "    }\n",
       "\n",
       "    .dataframe thead th {\n",
       "        text-align: right;\n",
       "    }\n",
       "</style>\n",
       "<table border=\"1\" class=\"dataframe\">\n",
       "  <thead>\n",
       "    <tr style=\"text-align: right;\">\n",
       "      <th></th>\n",
       "      <th>sentence</th>\n",
       "      <th>target</th>\n",
       "    </tr>\n",
       "  </thead>\n",
       "  <tbody>\n",
       "    <tr>\n",
       "      <th>0</th>\n",
       "      <td>CMYK stands for cyan, magenta, yellow, and black.</td>\n",
       "      <td>HG</td>\n",
       "    </tr>\n",
       "    <tr>\n",
       "      <th>1</th>\n",
       "      <td>Optimization: Scientific computing is used to ...</td>\n",
       "      <td>AI</td>\n",
       "    </tr>\n",
       "    <tr>\n",
       "      <th>2</th>\n",
       "      <td>Scatter chart: A chart that plots two variable...</td>\n",
       "      <td>AI</td>\n",
       "    </tr>\n",
       "    <tr>\n",
       "      <th>3</th>\n",
       "      <td>Without the semicolons and braces found in C a...</td>\n",
       "      <td>HG</td>\n",
       "    </tr>\n",
       "    <tr>\n",
       "      <th>4</th>\n",
       "      <td>For example, a print spooler demon looks for j...</td>\n",
       "      <td>HG</td>\n",
       "    </tr>\n",
       "    <tr>\n",
       "      <th>...</th>\n",
       "      <td>...</td>\n",
       "      <td>...</td>\n",
       "    </tr>\n",
       "    <tr>\n",
       "      <th>625</th>\n",
       "      <td>Knowledge bases: These are searchable database...</td>\n",
       "      <td>AI</td>\n",
       "    </tr>\n",
       "    <tr>\n",
       "      <th>626</th>\n",
       "      <td>However, tape drives have continued to evolve,...</td>\n",
       "      <td>AI</td>\n",
       "    </tr>\n",
       "    <tr>\n",
       "      <th>627</th>\n",
       "      <td>Bill Gates is an American entrepreneur, softwa...</td>\n",
       "      <td>AI</td>\n",
       "    </tr>\n",
       "    <tr>\n",
       "      <th>628</th>\n",
       "      <td>Software development generally follows a stand...</td>\n",
       "      <td>AI</td>\n",
       "    </tr>\n",
       "    <tr>\n",
       "      <th>629</th>\n",
       "      <td>The system may also perform additional verific...</td>\n",
       "      <td>AI</td>\n",
       "    </tr>\n",
       "  </tbody>\n",
       "</table>\n",
       "<p>630 rows × 2 columns</p>\n",
       "</div>"
      ],
      "text/plain": [
       "                                              sentence target\n",
       "0    CMYK stands for cyan, magenta, yellow, and black.     HG\n",
       "1    Optimization: Scientific computing is used to ...     AI\n",
       "2    Scatter chart: A chart that plots two variable...     AI\n",
       "3    Without the semicolons and braces found in C a...     HG\n",
       "4    For example, a print spooler demon looks for j...     HG\n",
       "..                                                 ...    ...\n",
       "625  Knowledge bases: These are searchable database...     AI\n",
       "626  However, tape drives have continued to evolve,...     AI\n",
       "627  Bill Gates is an American entrepreneur, softwa...     AI\n",
       "628  Software development generally follows a stand...     AI\n",
       "629  The system may also perform additional verific...     AI\n",
       "\n",
       "[630 rows x 2 columns]"
      ]
     },
     "execution_count": 24,
     "metadata": {},
     "output_type": "execute_result"
    }
   ],
   "source": [
    "# COMANDO QUE DEVE COLOCAR NO TEMPLATE Projeto1_Template.ipynb para LER a base de dados TESTE\n",
    "# Faça adaptações digitando o nome (username) considerado\n",
    "pd.read_csv('dados_teste_TRIO_'+nome+'.csv')"
   ]
  },
  {
   "cell_type": "code",
   "execution_count": null,
   "metadata": {},
   "outputs": [],
   "source": []
  },
  {
   "cell_type": "code",
   "execution_count": null,
   "metadata": {},
   "outputs": [],
   "source": []
  },
  {
   "cell_type": "code",
   "execution_count": null,
   "metadata": {},
   "outputs": [],
   "source": []
  }
 ],
 "metadata": {
  "kernelspec": {
   "display_name": "Python 3 (ipykernel)",
   "language": "python",
   "name": "python3"
  },
  "language_info": {
   "codemirror_mode": {
    "name": "ipython",
    "version": 3
   },
   "file_extension": ".py",
   "mimetype": "text/x-python",
   "name": "python",
   "nbconvert_exporter": "python",
   "pygments_lexer": "ipython3",
   "version": "3.11.8"
  }
 },
 "nbformat": 4,
 "nbformat_minor": 4
}
